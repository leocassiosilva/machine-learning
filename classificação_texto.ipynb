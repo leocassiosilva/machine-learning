{
  "nbformat": 4,
  "nbformat_minor": 0,
  "metadata": {
    "colab": {
      "name": "classificação_texto.ipynb",
      "provenance": [],
      "authorship_tag": "ABX9TyNffhYqL35vAlGWkxlUGTnj",
      "include_colab_link": true
    },
    "kernelspec": {
      "name": "python3",
      "display_name": "Python 3"
    },
    "language_info": {
      "name": "python"
    }
  },
  "cells": [
    {
      "cell_type": "markdown",
      "metadata": {
        "id": "view-in-github",
        "colab_type": "text"
      },
      "source": [
        "<a href=\"https://colab.research.google.com/github/leocassiosilva/machine-learning/blob/main/classifica%C3%A7%C3%A3o_texto.ipynb\" target=\"_parent\"><img src=\"https://colab.research.google.com/assets/colab-badge.svg\" alt=\"Open In Colab\"/></a>"
      ]
    },
    {
      "cell_type": "code",
      "execution_count": 1,
      "metadata": {
        "id": "jdlNTCgE3ZO4"
      },
      "outputs": [],
      "source": [
        "from sklearn.datasets import fetch_20newsgroups\n",
        "from sklearn.feature_extraction.text import TfidfVectorizer\n",
        "\n",
        "# um classificador linear que utiliza o Gradiente Descendente Estocástico como método de treino. Por padrão, utiliza o estimador SVM.\n",
        "from sklearn.linear_model import SGDClassifier\n",
        "# Uma rede neural Perceptron Multicamadas\n",
        "from sklearn.neural_network import MLPClassifier\n",
        "\n",
        "from sklearn import metrics\n",
        "\n",
        "from sklearn.metrics import confusion_matrix\n",
        "import matplotlib.pyplot as plt\n",
        "%matplotlib inline"
      ]
    },
    {
      "cell_type": "code",
      "source": [
        "categories = ['talk.politics.misc', 'rec.autos']\n",
        "twenty_train = fetch_20newsgroups(subset='train',categories=categories, shuffle=True, random_state=42)"
      ],
      "metadata": {
        "id": "2RGmkrDJ3sYB"
      },
      "execution_count": 2,
      "outputs": []
    },
    {
      "cell_type": "code",
      "source": [
        "# Nomes das categorias\n",
        "print(twenty_train.target_names)"
      ],
      "metadata": {
        "colab": {
          "base_uri": "https://localhost:8080/"
        },
        "id": "weSmcNa73v7I",
        "outputId": "b85e3c1d-5aff-41a8-f051-6a79ea6d51f4"
      },
      "execution_count": 3,
      "outputs": [
        {
          "output_type": "stream",
          "name": "stdout",
          "text": [
            "['rec.autos', 'talk.politics.misc']\n"
          ]
        }
      ]
    },
    {
      "cell_type": "code",
      "source": [
        "# O scikit-learn carrega os rótulo como um array de inteiros....\n",
        "twenty_train.target[:10]"
      ],
      "metadata": {
        "colab": {
          "base_uri": "https://localhost:8080/"
        },
        "id": "UlboinDw3x-m",
        "outputId": "c8f3d5d7-5885-4ee9-e1c2-4667bf34e0f4"
      },
      "execution_count": 4,
      "outputs": [
        {
          "output_type": "execute_result",
          "data": {
            "text/plain": [
              "array([1, 1, 1, 0, 1, 1, 0, 1, 1, 1])"
            ]
          },
          "metadata": {},
          "execution_count": 4
        }
      ]
    },
    {
      "cell_type": "code",
      "source": [
        "# Mas, é possível visualizar os nomes das categorias da seguinte forma\n",
        "for t in twenty_train.target[:10]:\n",
        "    print(twenty_train.target_names[t])"
      ],
      "metadata": {
        "colab": {
          "base_uri": "https://localhost:8080/"
        },
        "id": "voZnvI8z30cn",
        "outputId": "802ccf28-bc21-4637-d172-1da4b0ca89ef"
      },
      "execution_count": 5,
      "outputs": [
        {
          "output_type": "stream",
          "name": "stdout",
          "text": [
            "talk.politics.misc\n",
            "talk.politics.misc\n",
            "talk.politics.misc\n",
            "rec.autos\n",
            "talk.politics.misc\n",
            "talk.politics.misc\n",
            "rec.autos\n",
            "talk.politics.misc\n",
            "talk.politics.misc\n",
            "talk.politics.misc\n"
          ]
        }
      ]
    },
    {
      "cell_type": "code",
      "source": [
        "vectorizer = TfidfVectorizer()\n",
        "X_train_tfidf_vectorize = vectorizer.fit_transform(twenty_train.data)"
      ],
      "metadata": {
        "id": "iUU8zo0h33lw"
      },
      "execution_count": 6,
      "outputs": []
    },
    {
      "cell_type": "code",
      "source": [
        "# Aqui nós treinamos o classificador\n",
        "#clf = SGDClassifier(loss='hinge', penalty='l2', alpha=1e-3, random_state=42, max_iter=5, tol=None)\n",
        "clf = MLPClassifier(solver='lbfgs', alpha=1e-5, hidden_layer_sizes=(70, ), random_state=1, verbose=True)\n",
        "clf.fit(X_train_tfidf_vectorize, twenty_train.target) \n",
        "MLPClassifier(activation='relu', alpha=1e-05, batch_size='auto', beta_1=0.9,\n",
        "       beta_2=0.999, early_stopping=False, epsilon=1e-08,\n",
        "       hidden_layer_sizes=(70,), learning_rate='constant',\n",
        "       learning_rate_init=0.001, max_iter=200, momentum=0.9,\n",
        "       nesterovs_momentum=True, power_t=0.5, random_state=1, shuffle=True,\n",
        "       solver='lbfgs', tol=0.0001, validation_fraction=0.1, verbose=True,\n",
        "       warm_start=False)"
      ],
      "metadata": {
        "colab": {
          "base_uri": "https://localhost:8080/"
        },
        "id": "dSExkMPD36MD",
        "outputId": "83928df7-086b-45e9-d231-af9edb250a17"
      },
      "execution_count": 7,
      "outputs": [
        {
          "output_type": "execute_result",
          "data": {
            "text/plain": [
              "MLPClassifier(alpha=1e-05, hidden_layer_sizes=(70,), random_state=1,\n",
              "              solver='lbfgs', verbose=True)"
            ]
          },
          "metadata": {},
          "execution_count": 7
        }
      ]
    },
    {
      "cell_type": "code",
      "source": [
        "twenty_test = fetch_20newsgroups(subset='test', categories=categories, shuffle=True, random_state=42)\n",
        "docs_test = twenty_test.data\n",
        "\n",
        "vect_transform = vectorizer.transform(docs_test)\n",
        "predicted = clf.predict(vect_transform)\n",
        "\n",
        "\n",
        "print(metrics.classification_report(twenty_test.target, predicted,target_names=twenty_test.target_names))\n",
        "\n",
        "print(clf.classes_)"
      ],
      "metadata": {
        "colab": {
          "base_uri": "https://localhost:8080/"
        },
        "id": "loWZwgIh38O2",
        "outputId": "058f967c-1fc0-4e5f-fd93-29f179d04f1f"
      },
      "execution_count": 8,
      "outputs": [
        {
          "output_type": "stream",
          "name": "stdout",
          "text": [
            "                    precision    recall  f1-score   support\n",
            "\n",
            "         rec.autos       0.95      0.98      0.97       396\n",
            "talk.politics.misc       0.98      0.93      0.95       310\n",
            "\n",
            "          accuracy                           0.96       706\n",
            "         macro avg       0.96      0.96      0.96       706\n",
            "      weighted avg       0.96      0.96      0.96       706\n",
            "\n",
            "[0 1]\n"
          ]
        }
      ]
    },
    {
      "cell_type": "code",
      "source": [
        "confusion_matrix = confusion_matrix(twenty_test.target, predicted)\n",
        "print(confusion_matrix)"
      ],
      "metadata": {
        "colab": {
          "base_uri": "https://localhost:8080/"
        },
        "id": "zLMZztxO4AdV",
        "outputId": "8cbd4f6d-b6ac-4d81-8408-0733ec1bcdf7"
      },
      "execution_count": 9,
      "outputs": [
        {
          "output_type": "stream",
          "name": "stdout",
          "text": [
            "[[390   6]\n",
            " [ 22 288]]\n"
          ]
        }
      ]
    },
    {
      "cell_type": "code",
      "source": [
        "plt.matshow(confusion_matrix)\n",
        "plt.title(\"Matriz de confusão\")\n",
        "plt.colorbar()\n",
        "plt.ylabel(\"Classificações corretas\")\n",
        "plt.xlabel(\"Classificações obtidas\")\n",
        "plt.show()"
      ],
      "metadata": {
        "colab": {
          "base_uri": "https://localhost:8080/",
          "height": 257
        },
        "id": "edeFbe214DGx",
        "outputId": "fa8e8f4e-88ac-43ac-d01c-7b9299bea472"
      },
      "execution_count": 10,
      "outputs": [
        {
          "output_type": "display_data",
          "data": {
            "image/png": "[encoded data removed]",
            "text/plain": [
              "<Figure size 288x288 with 2 Axes>"
            ]
          },
          "metadata": {
            "needs_background": "light"
          }
        }
      ]
    },
    {
      "cell_type": "code",
      "source": [
        "docs_new = [\n",
        "    'Wednesday morning, the legal team had appeared to turn back toward more discreet lawyering, with the announcement that Washington trial lawyer Emmet Flood would join the team inside the White House.',\n",
        "    'By the time Rolls-Royce unveiled its one-of-a-kind Serenity Phantom at the 2015 Geneva Motor Show.'\n",
        "]\n",
        "\n",
        "X_new_tfidf_vectorize = vectorizer.transform(docs_new)\n",
        "\n",
        "predicted = clf.predict(X_new_tfidf_vectorize)\n",
        "\n",
        "for doc, category in zip(docs_new, predicted):\n",
        "    print('%r => %s' % (doc, twenty_train.target_names[category]))"
      ],
      "metadata": {
        "colab": {
          "base_uri": "https://localhost:8080/"
        },
        "id": "AXJKm1Ns4Gud",
        "outputId": "d7cf7fd9-c45e-4964-a71a-7379b6feaba3"
      },
      "execution_count": 11,
      "outputs": [
        {
          "output_type": "stream",
          "name": "stdout",
          "text": [
            "'Wednesday morning, the legal team had appeared to turn back toward more discreet lawyering, with the announcement that Washington trial lawyer Emmet Flood would join the team inside the White House.' => talk.politics.misc\n",
            "'By the time Rolls-Royce unveiled its one-of-a-kind Serenity Phantom at the 2015 Geneva Motor Show.' => rec.autos\n"
          ]
        }
      ]
    },
    {
      "cell_type": "markdown",
      "source": [
        "Fonte: \n",
        "\n",
        "https://github.com/luisfredgs/machine-learning-text-classification/blob/master/20newsgroups.ipynb"
      ],
      "metadata": {
        "id": "PKcBJvAn5Ar5"
      }
    }
  ]
}